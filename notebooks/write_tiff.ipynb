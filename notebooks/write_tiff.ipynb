{
 "cells": [
  {
   "cell_type": "code",
   "execution_count": 7,
   "metadata": {},
   "outputs": [],
   "source": [
    "import numpy as np\n",
    "from readimc import TXTFile\n",
    "from tifffile import imwrite\n",
    "import tifffile as tiff\n",
    "\n"
   ]
  },
  {
   "cell_type": "code",
   "execution_count": 35,
   "metadata": {},
   "outputs": [
    {
     "name": "stdout",
     "output_type": "stream",
     "text": [
      "['ArAr80', 'I127', 'Xe131', 'Xe134', 'Ba138', 'Pr141', 'Nd142', 'Nd143', 'Nd144', 'Nd145', 'Nd146', 'Nd148', 'Sm149', 'Nd150', 'Eu151', 'Sm152', 'Eu153', 'Sm154', 'Gd155', 'Gd156', 'Gd158', 'Tb159', 'Gd160', 'Dy161', 'Dy162', 'Dy163', 'Dy164', 'Ho165', 'Er166', 'Er167', 'Er168', 'Tm169', 'Er170', 'Yb171', 'Yb172', 'Yb173', 'Yb174', 'Lu175', 'Yb176', 'Ir191', 'Ir193', 'Pb208']\n",
      "['ArAr80', 'I1277', 'Xe131', 'Xe134', 'Ba138', 'CD38', 'Perilipin', 'Vimentin', 'B4GALT1', 'MPO', 'CathepsinK', 'ATP5A', 'RUNX2', 'HIF1A', 'CD11b', 'CD45', 'CS', 'CD11c', 'CD36', 'CD4', 'CD34', 'CD68', 'IL32', 'IDO', 'CD8', 'GranzymeK', 'PKM2', 'IRF4', 'GLUT1', 'GranzymeB', 'Ki67', 'CollagenTypeI', 'CD3', 'HistoneH3', 'CPT1A', 'CD98', 'HLA-DR', 'ST6GAL1', 'CD138', '191Ir', '193Ir', 'Pb208']\n"
     ]
    }
   ],
   "source": [
    "with TXTFile(\"../IMC_sample/TS-373_IMC01_UB_ROI_1.txt\") as f:\n",
    "    print(f.channel_names) # metals\n",
    "    print(f.channel_labels) # targets"
   ]
  },
  {
   "cell_type": "code",
   "execution_count": 16,
   "metadata": {},
   "outputs": [],
   "source": [
    "with TXTFile(\"../IMC_sample/TS-373_IMC01_UB_ROI_1.txt\") as f:\n",
    "    img = f.read_acquisition() # numpy array, shape: (c,y,x), dtype: float32"
   ]
  },
  {
   "cell_type": "code",
   "execution_count": 4,
   "metadata": {},
   "outputs": [],
   "source": [
    "\n",
    "import scipy as sp\n",
    "from scipy.ndimage import maximum_filter\n",
    "import numpy as np\n"
   ]
  },
  {
   "cell_type": "code",
   "execution_count": 9,
   "metadata": {},
   "outputs": [],
   "source": [
    "def filter_hot_pixels(img: np.ndarray, thres: float) -> np.ndarray:\n",
    "    kernel = np.ones((1, 3, 3), dtype=bool)\n",
    "    kernel[0, 1, 1] = False\n",
    "    max_neighbor_img = maximum_filter(img, footprint=kernel, mode=\"mirror\")\n",
    "    return np.where(img - max_neighbor_img > thres, max_neighbor_img, img)"
   ]
  },
  {
   "cell_type": "code",
   "execution_count": 12,
   "metadata": {},
   "outputs": [],
   "source": [
    "from typing import Optional"
   ]
  },
  {
   "cell_type": "code",
   "execution_count": 23,
   "metadata": {},
   "outputs": [],
   "source": [
    "def preprocess_image(img: np.ndarray, hpf: Optional[float] = None) -> np.ndarray:\n",
    "    img = img.astype(np.float32)\n",
    "    if hpf is not None:\n",
    "        img = filter_hot_pixels(img, hpf)\n",
    "    return img"
   ]
  },
  {
   "cell_type": "code",
   "execution_count": 24,
   "metadata": {},
   "outputs": [
    {
     "data": {
      "text/plain": [
       "array([[[1.1026196e+04, 1.0698507e+04, 1.1416642e+04, ...,\n",
       "         1.1458626e+04, 1.0806913e+04, 1.1101559e+04],\n",
       "        [1.1249594e+04, 1.1495267e+04, 1.1495267e+04, ...,\n",
       "         1.0294852e+04, 1.0943590e+04, 1.1101559e+04],\n",
       "        [1.0928807e+04, 1.1223942e+04, 1.0977032e+04, ...,\n",
       "         1.1067168e+04, 1.1101559e+04, 1.0989867e+04],\n",
       "        ...,\n",
       "        [7.2917031e+03, 7.7881572e+03, 7.8101968e+03, ...,\n",
       "         7.8323691e+03, 7.4671118e+03, 7.9449912e+03],\n",
       "        [7.9562080e+03, 7.9562080e+03, 8.0951138e+03, ...,\n",
       "         7.7592808e+03, 7.7698369e+03, 7.8776841e+03],\n",
       "        [7.2098271e+03, 7.3687559e+03, 7.2406919e+03, ...,\n",
       "         7.7698369e+03, 7.2096021e+03, 6.9897598e+03]],\n",
       "\n",
       "       [[6.3010001e+00, 2.3573000e+01, 2.0679001e+01, ...,\n",
       "         1.8158001e+01, 2.0577999e+01, 1.6488001e+01],\n",
       "        [1.4865000e+01, 2.1590000e+01, 1.3348000e+01, ...,\n",
       "         2.0399000e+01, 2.5750999e+01, 2.1768999e+01],\n",
       "        [2.4247000e+01, 1.7462999e+01, 2.3294001e+01, ...,\n",
       "         2.1103001e+01, 1.3454000e+01, 2.0073000e+01],\n",
       "        ...,\n",
       "        [1.9271999e+01, 5.8899999e+00, 8.5000000e+00, ...,\n",
       "         1.1683000e+01, 1.4713000e+01, 2.6552000e+01],\n",
       "        [1.0916000e+01, 2.6854000e+01, 1.1975000e+01, ...,\n",
       "         1.9662001e+01, 1.2285000e+01, 1.5014000e+01],\n",
       "        [6.8690000e+00, 1.6763000e+01, 1.5442000e+01, ...,\n",
       "         2.2658001e+01, 1.7268000e+01, 1.2161000e+01]],\n",
       "\n",
       "       [[1.5704800e+02, 1.4341600e+02, 1.5708200e+02, ...,\n",
       "         1.5841800e+02, 1.2294700e+02, 1.5233000e+02],\n",
       "        [1.7090601e+02, 1.6386501e+02, 1.3415199e+02, ...,\n",
       "         1.1933000e+02, 1.9091901e+02, 1.9227699e+02],\n",
       "        [1.6107600e+02, 1.7294501e+02, 1.7846600e+02, ...,\n",
       "         1.6255099e+02, 1.6631799e+02, 1.5895500e+02],\n",
       "        ...,\n",
       "        [7.9281998e+01, 9.3070000e+01, 8.9571999e+01, ...,\n",
       "         9.4824997e+01, 8.4447998e+01, 7.7791000e+01],\n",
       "        [1.2446500e+02, 9.1370003e+01, 1.1561900e+02, ...,\n",
       "         8.5910004e+01, 9.2872002e+01, 7.6911003e+01],\n",
       "        [8.7757004e+01, 8.8709999e+01, 8.3108002e+01, ...,\n",
       "         7.8372002e+01, 7.4691002e+01, 6.7192001e+01]],\n",
       "\n",
       "       ...,\n",
       "\n",
       "       [[0.0000000e+00, 0.0000000e+00, 0.0000000e+00, ...,\n",
       "         0.0000000e+00, 0.0000000e+00, 0.0000000e+00],\n",
       "        [0.0000000e+00, 0.0000000e+00, 0.0000000e+00, ...,\n",
       "         0.0000000e+00, 0.0000000e+00, 0.0000000e+00],\n",
       "        [0.0000000e+00, 0.0000000e+00, 0.0000000e+00, ...,\n",
       "         0.0000000e+00, 0.0000000e+00, 0.0000000e+00],\n",
       "        ...,\n",
       "        [0.0000000e+00, 0.0000000e+00, 0.0000000e+00, ...,\n",
       "         0.0000000e+00, 0.0000000e+00, 0.0000000e+00],\n",
       "        [0.0000000e+00, 0.0000000e+00, 0.0000000e+00, ...,\n",
       "         0.0000000e+00, 0.0000000e+00, 0.0000000e+00],\n",
       "        [0.0000000e+00, 0.0000000e+00, 0.0000000e+00, ...,\n",
       "         0.0000000e+00, 0.0000000e+00, 0.0000000e+00]],\n",
       "\n",
       "       [[0.0000000e+00, 0.0000000e+00, 0.0000000e+00, ...,\n",
       "         0.0000000e+00, 0.0000000e+00, 0.0000000e+00],\n",
       "        [0.0000000e+00, 0.0000000e+00, 0.0000000e+00, ...,\n",
       "         0.0000000e+00, 0.0000000e+00, 0.0000000e+00],\n",
       "        [0.0000000e+00, 0.0000000e+00, 0.0000000e+00, ...,\n",
       "         0.0000000e+00, 0.0000000e+00, 0.0000000e+00],\n",
       "        ...,\n",
       "        [0.0000000e+00, 0.0000000e+00, 0.0000000e+00, ...,\n",
       "         0.0000000e+00, 0.0000000e+00, 0.0000000e+00],\n",
       "        [0.0000000e+00, 0.0000000e+00, 0.0000000e+00, ...,\n",
       "         0.0000000e+00, 0.0000000e+00, 0.0000000e+00],\n",
       "        [0.0000000e+00, 0.0000000e+00, 0.0000000e+00, ...,\n",
       "         0.0000000e+00, 0.0000000e+00, 0.0000000e+00]],\n",
       "\n",
       "       [[0.0000000e+00, 0.0000000e+00, 0.0000000e+00, ...,\n",
       "         2.8350000e+00, 0.0000000e+00, 0.0000000e+00],\n",
       "        [0.0000000e+00, 0.0000000e+00, 2.0000000e+00, ...,\n",
       "         1.4399999e-01, 0.0000000e+00, 0.0000000e+00],\n",
       "        [1.0000000e+00, 2.0000000e+00, 0.0000000e+00, ...,\n",
       "         0.0000000e+00, 1.9069999e+00, 0.0000000e+00],\n",
       "        ...,\n",
       "        [0.0000000e+00, 0.0000000e+00, 0.0000000e+00, ...,\n",
       "         1.7990000e+00, 0.0000000e+00, 0.0000000e+00],\n",
       "        [0.0000000e+00, 1.0000000e+00, 1.0000000e+00, ...,\n",
       "         2.3030000e+00, 0.0000000e+00, 1.0000000e+00],\n",
       "        [0.0000000e+00, 0.0000000e+00, 0.0000000e+00, ...,\n",
       "         0.0000000e+00, 0.0000000e+00, 0.0000000e+00]]], dtype=float32)"
      ]
     },
     "execution_count": 24,
     "metadata": {},
     "output_type": "execute_result"
    }
   ],
   "source": [
    "preprocess_image(img, hpf=50)"
   ]
  },
  {
   "cell_type": "code",
   "execution_count": null,
   "metadata": {},
   "outputs": [],
   "source": []
  },
  {
   "cell_type": "code",
   "execution_count": null,
   "metadata": {},
   "outputs": [],
   "source": []
  },
  {
   "cell_type": "code",
   "execution_count": null,
   "metadata": {},
   "outputs": [],
   "source": []
  },
  {
   "cell_type": "code",
   "execution_count": null,
   "metadata": {},
   "outputs": [],
   "source": []
  },
  {
   "cell_type": "code",
   "execution_count": 37,
   "metadata": {},
   "outputs": [],
   "source": [
    "imwrite('../temp.tif', img )"
   ]
  },
  {
   "cell_type": "code",
   "execution_count": 38,
   "metadata": {},
   "outputs": [
    {
     "data": {
      "text/plain": [
       "(42, 1000, 1000)"
      ]
     },
     "execution_count": 38,
     "metadata": {},
     "output_type": "execute_result"
    }
   ],
   "source": [
    "img.shape\n"
   ]
  },
  {
   "cell_type": "code",
   "execution_count": 14,
   "metadata": {},
   "outputs": [],
   "source": [
    "input = \"../IMC_sample/TS-373_IMC01_UB_ROI_1.txt\"\n",
    "output = '../output/'"
   ]
  },
  {
   "cell_type": "code",
   "execution_count": null,
   "metadata": {},
   "outputs": [],
   "source": [
    "from pathlib import Path\n",
    "a=Path(\"D:\\TSPC_overview.pptx\")\n",
    "output_path=Path('D:/')\n",
    "output_file=a.name.split('.')[0]+\"_output.tif\"\n",
    "output_path / output_file"
   ]
  },
  {
   "cell_type": "code",
   "execution_count": 27,
   "metadata": {},
   "outputs": [
    {
     "data": {
      "text/plain": [
       "PosixPath('../output/TS-373_IMC01_UB_ROI_1_output.tif')"
      ]
     },
     "execution_count": 27,
     "metadata": {},
     "output_type": "execute_result"
    }
   ],
   "source": [
    "from pathlib import Path\n",
    "\n",
    "output_file = Path(input).stem+\"_output.tif\"\n",
    "#output_path = Path(output)\n",
    "\n",
    "Path(output) / output_file"
   ]
  },
  {
   "cell_type": "code",
   "execution_count": 32,
   "metadata": {},
   "outputs": [
    {
     "data": {
      "text/plain": [
       "PosixPath('../output')"
      ]
     },
     "execution_count": 32,
     "metadata": {},
     "output_type": "execute_result"
    }
   ],
   "source": [
    "output_file = Path(input).stem + \"_output.tif\"\n",
    "output_file = Path(output) / output_file\n",
    "output_file.parent"
   ]
  },
  {
   "cell_type": "code",
   "execution_count": 19,
   "metadata": {},
   "outputs": [],
   "source": [
    "\n",
    "with TXTFile(input) as f:\n",
    "    #metals = f.channel_names # metals\n",
    "    global markers\n",
    "    markers = f.channel_labels # targets\n",
    "    global img\n",
    "    img = f.read_acquisition() # numpy array, shape: (c,y,x), dtype: float32\n",
    "tiff.imwrite(output_path / output_file, img) ## TODO: curently cant create a folder!! fix! "
   ]
  }
 ],
 "metadata": {
  "kernelspec": {
   "display_name": "readimc-env",
   "language": "python",
   "name": "python3"
  },
  "language_info": {
   "codemirror_mode": {
    "name": "ipython",
    "version": 3
   },
   "file_extension": ".py",
   "mimetype": "text/x-python",
   "name": "python",
   "nbconvert_exporter": "python",
   "pygments_lexer": "ipython3",
   "version": "3.12.4"
  }
 },
 "nbformat": 4,
 "nbformat_minor": 2
}
