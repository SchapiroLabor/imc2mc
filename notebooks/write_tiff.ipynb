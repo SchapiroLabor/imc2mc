{
 "cells": [
  {
   "cell_type": "code",
   "execution_count": 6,
   "metadata": {},
   "outputs": [],
   "source": [
    "import numpy as np\n",
    "from readimc import MCDFile, TXTFile\n",
    "from tifffile import imwrite\n",
    "import tifffile as tiff\n"
   ]
  },
  {
   "cell_type": "code",
   "execution_count": 3,
   "metadata": {},
   "outputs": [
    {
     "name": "stdout",
     "output_type": "stream",
     "text": [
      "['ArAr80', 'I127', 'Xe131', 'Xe134', 'Ba138', 'Pr141', 'Nd142', 'Nd143', 'Nd144', 'Nd145', 'Nd146', 'Nd148', 'Sm149', 'Nd150', 'Eu151', 'Sm152', 'Eu153', 'Sm154', 'Gd155', 'Gd156', 'Gd158', 'Tb159', 'Gd160', 'Dy161', 'Dy162', 'Dy163', 'Dy164', 'Ho165', 'Er166', 'Er167', 'Er168', 'Tm169', 'Er170', 'Yb171', 'Yb172', 'Yb173', 'Yb174', 'Lu175', 'Yb176', 'Ir191', 'Ir193', 'Pb208']\n",
      "['ArAr80', 'I1277', 'Xe131', 'Xe134', 'Ba138', 'CD38', 'Perilipin', 'Vimentin', 'B4GALT1', 'MPO', 'CathepsinK', 'ATP5A', 'RUNX2', 'HIF1A', 'CD11b', 'CD45', 'CS', 'CD11c', 'CD36', 'CD4', 'CD34', 'CD68', 'IL32', 'IDO', 'CD8', 'GranzymeK', 'PKM2', 'IRF4', 'GLUT1', 'GranzymeB', 'Ki67', 'CollagenTypeI', 'CD3', 'HistoneH3', 'CPT1A', 'CD98', 'HLA-DR', 'ST6GAL1', 'CD138', '191Ir', '193Ir', 'Pb208']\n"
     ]
    }
   ],
   "source": [
    "with TXTFile(\"IMC_sample/TS-373_IMC01_UB_ROI_1.txt\") as f:\n",
    "    print(f.channel_names) # metals\n",
    "    print(f.channel_labels) # targets"
   ]
  },
  {
   "cell_type": "code",
   "execution_count": 4,
   "metadata": {},
   "outputs": [],
   "source": [
    "with TXTFile(\"IMC_sample/TS-373_IMC01_UB_ROI_1.txt\") as f:\n",
    "    img = f.read_acquisition() # numpy array, shape: (c,y,x), dtype: float32"
   ]
  },
  {
   "cell_type": "code",
   "execution_count": 7,
   "metadata": {},
   "outputs": [],
   "source": [
    "imwrite('temp.tif', img )"
   ]
  },
  {
   "cell_type": "code",
   "execution_count": 11,
   "metadata": {},
   "outputs": [
    {
     "data": {
      "text/plain": [
       "(42, 1000, 1000)"
      ]
     },
     "execution_count": 11,
     "metadata": {},
     "output_type": "execute_result"
    }
   ],
   "source": [
    "img.shape\n"
   ]
  },
  {
   "cell_type": "code",
   "execution_count": 14,
   "metadata": {},
   "outputs": [],
   "source": [
    "input = \"../IMC_sample/TS-373_IMC01_UB_ROI_1.txt\"\n",
    "output = '../output/'"
   ]
  },
  {
   "cell_type": "code",
   "execution_count": null,
   "metadata": {},
   "outputs": [],
   "source": [
    "from pathlib import Path\n",
    "a=Path(\"D:\\TSPC_overview.pptx\")\n",
    "output_path=Path('D:/')\n",
    "output_file=a.name.split('.')[0]+\"_output.tif\"\n",
    "output_path / output_file"
   ]
  },
  {
   "cell_type": "code",
   "execution_count": 27,
   "metadata": {},
   "outputs": [
    {
     "data": {
      "text/plain": [
       "PosixPath('../output/TS-373_IMC01_UB_ROI_1_output.tif')"
      ]
     },
     "execution_count": 27,
     "metadata": {},
     "output_type": "execute_result"
    }
   ],
   "source": [
    "from pathlib import Path\n",
    "\n",
    "output_file = Path(input).stem+\"_output.tif\"\n",
    "#output_path = Path(output)\n",
    "\n",
    "Path(output) / output_file"
   ]
  },
  {
   "cell_type": "code",
   "execution_count": 32,
   "metadata": {},
   "outputs": [
    {
     "data": {
      "text/plain": [
       "PosixPath('../output')"
      ]
     },
     "execution_count": 32,
     "metadata": {},
     "output_type": "execute_result"
    }
   ],
   "source": [
    "output_file = Path(input).stem + \"_output.tif\"\n",
    "output_file = Path(output) / output_file\n",
    "output_file.parent"
   ]
  },
  {
   "cell_type": "code",
   "execution_count": 19,
   "metadata": {},
   "outputs": [],
   "source": [
    "\n",
    "with TXTFile(input) as f:\n",
    "    #metals = f.channel_names # metals\n",
    "    global markers\n",
    "    markers = f.channel_labels # targets\n",
    "    global img\n",
    "    img = f.read_acquisition() # numpy array, shape: (c,y,x), dtype: float32\n",
    "tiff.imwrite(output_path / output_file, img) ## TODO: curently cant create a folder!! fix! "
   ]
  }
 ],
 "metadata": {
  "kernelspec": {
   "display_name": "readimc-env",
   "language": "python",
   "name": "python3"
  },
  "language_info": {
   "codemirror_mode": {
    "name": "ipython",
    "version": 3
   },
   "file_extension": ".py",
   "mimetype": "text/x-python",
   "name": "python",
   "nbconvert_exporter": "python",
   "pygments_lexer": "ipython3",
   "version": "3.12.4"
  }
 },
 "nbformat": 4,
 "nbformat_minor": 2
}
