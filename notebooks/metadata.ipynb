{
 "cells": [
  {
   "cell_type": "code",
   "execution_count": 81,
   "metadata": {},
   "outputs": [],
   "source": [
    "from readimc import MCDFile, TXTFile\n",
    "\n",
    "import ome_types\n",
    "from ome_types.model import OME,Instrument,Pixels,TiffData,Channel,Plane,Pixels_DimensionOrder\n",
    "from ome_types.model.simple_types import PixelsID\n",
    "from ome_types.model.pixels import DimensionOrder\n",
    "from ome_types import to_xml\n",
    "import tifffile as tiff\n",
    "import copy\n",
    "import platform\n",
    "from uuid import uuid4"
   ]
  },
  {
   "cell_type": "code",
   "execution_count": 3,
   "metadata": {},
   "outputs": [],
   "source": [
    "with MCDFile(\"IMC_sample/TS-373_IMC01_UB.mcd\") as f:\n",
    "    xml = f.schema_xml\n",
    "\n",
    "name_elemet = xml.find('Description')\n",
    "name_elemet"
   ]
  },
  {
   "cell_type": "code",
   "execution_count": 28,
   "metadata": {},
   "outputs": [],
   "source": [
    "with TXTFile(\"IMC_sample/TS-373_IMC01_UB_ROI_1.txt\") as f:\n",
    "    metals = f.channel_names # metals\n",
    "    targets = f.channel_labels # targets\n",
    "    img = f.read_acquisition() # numpy array, shape: (c,y,x), dtype: float32\n",
    "    "
   ]
  },
  {
   "cell_type": "code",
   "execution_count": 33,
   "metadata": {},
   "outputs": [
    {
     "data": {
      "text/plain": [
       "42"
      ]
     },
     "execution_count": 33,
     "metadata": {},
     "output_type": "execute_result"
    }
   ],
   "source": [
    "img.shape[0]"
   ]
  },
  {
   "cell_type": "code",
   "execution_count": 45,
   "metadata": {},
   "outputs": [],
   "source": [
    "# define markers\n",
    "markers = []\n",
    "markers = targets\n",
    "img_name = \"test\"\n",
    "no_of_channels = img.shape[0]\n",
    "#tiff.tiffcomment(input_dir, '')\n"
   ]
  },
  {
   "cell_type": "code",
   "execution_count": 105,
   "metadata": {},
   "outputs": [],
   "source": [
    "#--Generate channels block--#\n",
    "chann_block = []\n",
    "for ch, chann_name in enumerate(markers):\n",
    "    chann_block.append(\n",
    "        Channel(\n",
    "            id=ome_types.model.simple_types.ChannelID(\n",
    "                'Channel:{x}'.format(x=ch)),\n",
    "            name=chann_name\n",
    "        ))\n",
    "#--Generate tiff_data_blocks--#\n",
    "tiff_block = []\n",
    "#uuid_obj=UUID(file_name=img_name,value=uuid4().urn)\n",
    "for ch in range(0, no_of_channels):\n",
    "    tiff_block.append(\n",
    "        TiffData(\n",
    "            first_c=ch,\n",
    "            ifd=ch,\n",
    "            plane_count=1  #,\n",
    "            #uuid=uuid_obj\n",
    "        ))\n",
    "\n",
    "#--Generate planes block (contains the information of each tile)--#\n",
    "plane_block = []\n",
    "#length_units=ome_types.model.simple_types.UnitsLength('µm')\n",
    "for ch in range(0, no_of_channels):\n",
    "    plane_block.append(\n",
    "        Plane(\n",
    "            the_c=ch,\n",
    "            the_t=0,\n",
    "            the_z=0\n",
    "        ))\n",
    "\n",
    "#--Generate pixels block--#\n",
    "no_of_tiles = 1 #hard coded for now \n",
    "bits_per_sample = 32\n",
    "pix_block = []\n",
    "ifd_counter = 0\n",
    "for t in range(0, no_of_tiles):\n",
    "    template_plane_block = copy.deepcopy(plane_block)\n",
    "    template_chann_block = copy.deepcopy(chann_block)\n",
    "    template_tiffdata_block = copy.deepcopy(tiff_block)\n",
    "    for ch, mark in enumerate(markers):\n",
    "\n",
    "        template_chann_block[ch].id = 'Channel:{y}:{x}'.format(x=ch,\n",
    "                                                                y=100 +\n",
    "                                                                t)  ### why?\n",
    "        template_chann_block[ch].name = mark\n",
    "        template_tiffdata_block[ch].ifd = ifd_counter\n",
    "        ifd_counter += 1\n",
    "    pix_block.append(\n",
    "        Pixels(\n",
    "            id=ome_types.model.simple_types.PixelsID(\n",
    "                'Pixels:{x}'.format(x=t)),\n",
    "            dimension_order=ome_types.model.pixels.DimensionOrder(\n",
    "                'XYZCT'),  ### check if the order is correct!!\n",
    "            size_c=no_of_channels,\n",
    "            size_t=1,\n",
    "            size_x=img.shape[2],\n",
    "            size_y=img.shape[1],\n",
    "            size_z=1,\n",
    "            type=ome_types.model.pixels.PixelType('float'),\n",
    "            big_endian=False,\n",
    "            channels=template_chann_block,\n",
    "            interleaved=False,\n",
    "            physical_size_x=1, # hard coded for now \n",
    "            physical_size_y=1, # hard coded for now\n",
    "            physical_size_z=1.0,\n",
    "            planes=template_plane_block,\n",
    "            bits_per_sample=bits_per_sample,\n",
    "            tiff_data_blocks=template_tiffdata_block))\n",
    "\n",
    "#--Generate image block--#\n",
    "img_block = []\n",
    "for t in range(0, no_of_tiles):\n",
    "    img_block.append(\n",
    "        ome_types.model.Image(id=ome_types.model.simple_types.ImageID(\n",
    "            'Image:{x}'.format(x=t)),\n",
    "                                pixels=pix_block[t]))"
   ]
  },
  {
   "cell_type": "markdown",
   "metadata": {},
   "source": [
    "        template_plane_block[ch].position_x = all_tile_metadata[t][0][\n",
    "            'x_position']  #*10000\n",
    "        template_plane_block[ch].position_y = all_tile_metadata[t][0][\n",
    "            'y_position']  #*10000\n",
    "        template_plane_block[ch].exposure_time = all_tile_metadata[t][ch][\n",
    "            'exposure_time']\n",
    "\n",
    "\n",
    "            emission_wavelength=1,  #place holder\n",
    "            excitation_wavelength=1,  #place holder\n",
    "\n",
    ",\n",
    "            color=ome_types.model.simple_types.Color((255, 255, 255))\n",
    "\n",
    "\n",
    "            position_x=0,\n",
    "            position_y=0,\n",
    "            position_z=0,\n",
    "            exposure_time=0"
   ]
  },
  {
   "cell_type": "code",
   "execution_count": 106,
   "metadata": {},
   "outputs": [],
   "source": [
    "#--Create the OME object with all previously defined blocks--#\n",
    "ome_custom = OME()\n",
    "ome_custom.creator = \" \".join([\n",
    "    ome_types.__name__, ome_types.__version__, '/ python version-',\n",
    "    platform.python_version()\n",
    "])\n",
    "ome_custom.images = img_block\n",
    "ome_custom.uuid = uuid4().urn\n",
    "ome_xml = to_xml(ome_custom)\n",
    "tiff.tiffcomment('temp.tif', ome_xml)"
   ]
  }
 ],
 "metadata": {
  "kernelspec": {
   "display_name": "readimc-env",
   "language": "python",
   "name": "python3"
  },
  "language_info": {
   "codemirror_mode": {
    "name": "ipython",
    "version": 3
   },
   "file_extension": ".py",
   "mimetype": "text/x-python",
   "name": "python",
   "nbconvert_exporter": "python",
   "pygments_lexer": "ipython3",
   "version": "3.12.4"
  }
 },
 "nbformat": 4,
 "nbformat_minor": 2
}
