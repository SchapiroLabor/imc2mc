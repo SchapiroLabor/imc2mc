{
 "cells": [
  {
   "cell_type": "code",
   "execution_count": 2,
   "metadata": {},
   "outputs": [],
   "source": [
    "from readimc import MCDFile, TXTFile"
   ]
  },
  {
   "cell_type": "code",
   "execution_count": 2,
   "metadata": {},
   "outputs": [
    {
     "name": "stdout",
     "output_type": "stream",
     "text": [
      "['ArAr80', 'I127', 'Xe131', 'Xe134', 'Ba138', 'Pr141', 'Nd142', 'Nd143', 'Nd144', 'Nd145', 'Nd146', 'Nd148', 'Sm149', 'Nd150', 'Eu151', 'Sm152', 'Eu153', 'Sm154', 'Gd155', 'Gd156', 'Gd158', 'Tb159', 'Gd160', 'Dy161', 'Dy162', 'Dy163', 'Dy164', 'Ho165', 'Er166', 'Er167', 'Er168', 'Tm169', 'Er170', 'Yb171', 'Yb172', 'Yb173', 'Yb174', 'Lu175', 'Yb176', 'Ir191', 'Ir193', 'Pb208']\n",
      "['ArAr80', 'I1277', 'Xe131', 'Xe134', 'Ba138', 'CD38', 'Perilipin', 'Vimentin', 'B4GALT1', 'MPO', 'CathepsinK', 'ATP5A', 'RUNX2', 'HIF1A', 'CD11b', 'CD45', 'CS', 'CD11c', 'CD36', 'CD4', 'CD34', 'CD68', 'IL32', 'IDO', 'CD8', 'GranzymeK', 'PKM2', 'IRF4', 'GLUT1', 'GranzymeB', 'Ki67', 'CollagenTypeI', 'CD3', 'HistoneH3', 'CPT1A', 'CD98', 'HLA-DR', 'ST6GAL1', 'CD138', '191Ir', '193Ir', 'Pb208']\n"
     ]
    }
   ],
   "source": [
    "with TXTFile(\"IMC_sample/TS-373_IMC01_UB_ROI_1.txt\") as f:\n",
    "    print(f.channel_names) # metals\n",
    "    print(f.channel_labels) # targets"
   ]
  },
  {
   "cell_type": "code",
   "execution_count": 21,
   "metadata": {},
   "outputs": [],
   "source": [
    "with TXTFile(\"IMC_sample/TS-373_IMC01_UB_ROI_1.txt\") as f:\n",
    "    img = f.read_acquisition() # numpy array, shape: (c,y,x), dtype: float32"
   ]
  },
  {
   "cell_type": "code",
   "execution_count": 4,
   "metadata": {},
   "outputs": [],
   "source": [
    "with MCDFile(\"IMC_sample/TS-373_IMC01_UB.mcd\") as f:\n",
    "    num_slides = len(f.slides)"
   ]
  },
  {
   "cell_type": "code",
   "execution_count": 9,
   "metadata": {},
   "outputs": [
    {
     "name": "stdout",
     "output_type": "stream",
     "text": [
      "1\n"
     ]
    }
   ],
   "source": [
    "#print(num_slides)"
   ]
  },
  {
   "cell_type": "markdown",
   "metadata": {},
   "source": [
    "#### Extracting metadata"
   ]
  },
  {
   "cell_type": "code",
   "execution_count": 5,
   "metadata": {},
   "outputs": [
    {
     "name": "stdout",
     "output_type": "stream",
     "text": [
      "0 Slide 75000.0 25000.0\n",
      "1 01.jpg 73100.839 25000.0\n",
      "1 ROI_1 1000.0 1000.0 ['ArAr80', 'I127', 'Xe131', 'Xe134', 'Ba138', 'Pr141', 'Nd142', 'Nd143', 'Nd144', 'Nd145', 'Nd146', 'Nd148', 'Sm149', 'Nd150', 'Eu151', 'Sm152', 'Eu153', 'Sm154', 'Gd155', 'Gd156', 'Gd158', 'Tb159', 'Gd160', 'Dy161', 'Dy162', 'Dy163', 'Dy164', 'Ho165', 'Er166', 'Er167', 'Er168', 'Tm169', 'Er170', 'Yb171', 'Yb172', 'Yb173', 'Yb174', 'Lu175', 'Yb176', 'Ir191', 'Ir193', 'Pb208'] ['', '', '', '', '', 'CD38', 'Perilipin', 'Vimentin', 'B4GALT1', 'MPO', 'CathepsinK', 'ATP5A', 'RUNX2', 'HIF1A', 'CD11b', 'CD45', 'CS', 'CD11c', 'CD36', 'CD4', 'CD34', 'CD68', 'IL32', 'IDO', 'CD8', 'GranzymeK', 'PKM2', 'IRF4', 'GLUT1', 'GranzymeB', 'Ki67', 'CollagenTypeI', 'CD3', 'HistoneH3', 'CPT1A', 'CD98', 'HLA-DR', 'ST6GAL1', 'CD138', '191Ir', '193Ir', '']\n"
     ]
    }
   ],
   "source": [
    "with MCDFile(\"IMC_sample/TS-373_IMC01_UB.mcd\") as f:\n",
    "    # first slide\n",
    "    slide = f.slides[0]\n",
    "    print(\n",
    "        slide.id,\n",
    "        slide.description,\n",
    "        slide.width_um,\n",
    "        slide.height_um\n",
    "    )\n",
    "    # first panorama of first slide \n",
    "    panorama = slide.panoramas[0]\n",
    "    print(\n",
    "        panorama.id,\n",
    "        panorama.description,\n",
    "        panorama.width_um,\n",
    "        panorama.height_um\n",
    "    )\n",
    "    # first aquisition of first slide\n",
    "    acquisition = slide.acquisitions[0]\n",
    "    print(\n",
    "        acquisition.id,\n",
    "        acquisition.description,\n",
    "        acquisition.width_um,\n",
    "        acquisition.height_um,\n",
    "        acquisition.channel_names, # metals\n",
    "        acquisition.channel_labels # targets \n",
    "    ) "
   ]
  },
  {
   "cell_type": "code",
   "execution_count": 6,
   "metadata": {},
   "outputs": [
    {
     "ename": "TypeError",
     "evalue": "'property' object is not callable",
     "output_type": "error",
     "traceback": [
      "\u001b[0;31m---------------------------------------------------------------------------\u001b[0m",
      "\u001b[0;31mTypeError\u001b[0m                                 Traceback (most recent call last)",
      "Cell \u001b[0;32mIn[6], line 1\u001b[0m\n\u001b[0;32m----> 1\u001b[0m \u001b[43mMCDFile\u001b[49m\u001b[38;5;241;43m.\u001b[39;49m\u001b[43mmetadata\u001b[49m\u001b[43m(\u001b[49m\u001b[38;5;124;43m\"\u001b[39;49m\u001b[38;5;124;43mIMC_sample/TS-373_IMC01_UB.mcd\u001b[39;49m\u001b[38;5;124;43m\"\u001b[39;49m\u001b[43m)\u001b[49m\n",
      "\u001b[0;31mTypeError\u001b[0m: 'property' object is not callable"
     ]
    }
   ],
   "source": [
    "MCDFile.metadata(\"IMC_sample/TS-373_IMC01_UB.mcd\")"
   ]
  },
  {
   "cell_type": "markdown",
   "metadata": {},
   "source": [
    "#### Reading slide imges\n",
    "IMC .mcd files can store slide images uploaded by the user (e.g., photographs) or acquired by the instrument. For supported image file formats, these images can be read as follows:"
   ]
  },
  {
   "cell_type": "code",
   "execution_count": 23,
   "metadata": {},
   "outputs": [],
   "source": [
    "with MCDFile(\"IMC_sample/TS-373_IMC01_UB.mcd\") as f:\n",
    "    slide = f.slides[0] # first slide\n",
    "    img = f.read_slide(slide) # numpy array or None\n"
   ]
  },
  {
   "cell_type": "markdown",
   "metadata": {},
   "source": [
    "#### Reading panorama images\n",
    "IMC .mcd files can contain zero or more panorama images acquired by the instrument, which can be read as follows:"
   ]
  },
  {
   "cell_type": "code",
   "execution_count": 25,
   "metadata": {},
   "outputs": [],
   "source": [
    "with MCDFile(\"IMC_sample/TS-373_IMC01_UB.mcd\") as f:\n",
    "    panorama = f.slides[0].panoramas[0]  # first panorama of first slide\n",
    "    img = f.read_panorama(panorama)  # numpy array"
   ]
  },
  {
   "cell_type": "markdown",
   "metadata": {},
   "source": [
    "#### Reading IMC acquisitions\n",
    "IMC .mcd files can contain zero or more IMC acquisitions, which can be read as follows:"
   ]
  },
  {
   "cell_type": "code",
   "execution_count": 27,
   "metadata": {},
   "outputs": [],
   "source": [
    "with MCDFile(\"IMC_sample/TS-373_IMC01_UB.mcd\") as f:\n",
    "    acquisition = f.slides[0].acquisitions[0]  # first acquisition of first slide\n",
    "    img = f.read_acquisition(acquisition)  # array, shape: (c, y, x), dtype: float32"
   ]
  },
  {
   "cell_type": "markdown",
   "metadata": {},
   "source": [
    "#### Reading before/after-ablation images\n",
    "The IMC instrument may be configured to acquire an optical image before/after each IMC acquisition. If available, these before/after-ablation images can be read as follows:"
   ]
  },
  {
   "cell_type": "code",
   "execution_count": 28,
   "metadata": {},
   "outputs": [],
   "source": [
    "with MCDFile(\"IMC_sample/TS-373_IMC01_UB.mcd\") as f:\n",
    "    acquisition = f.slides[0].acquisitions[0]  # first acquisition of first slide\n",
    "    before_ablation_img = f.read_before_ablation_image(acquisition)  # array or None\n",
    "    after_ablation_img = f.read_after_ablation_image(acquisition)  # array or None"
   ]
  },
  {
   "cell_type": "code",
   "execution_count": null,
   "metadata": {},
   "outputs": [],
   "source": []
  }
 ],
 "metadata": {
  "kernelspec": {
   "display_name": "readimc-env",
   "language": "python",
   "name": "python3"
  },
  "language_info": {
   "codemirror_mode": {
    "name": "ipython",
    "version": 3
   },
   "file_extension": ".py",
   "mimetype": "text/x-python",
   "name": "python",
   "nbconvert_exporter": "python",
   "pygments_lexer": "ipython3",
   "version": "3.12.4"
  }
 },
 "nbformat": 4,
 "nbformat_minor": 2
}
